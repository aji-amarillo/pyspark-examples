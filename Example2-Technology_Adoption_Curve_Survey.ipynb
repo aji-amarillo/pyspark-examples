{
 "cells": [
  {
   "cell_type": "code",
   "execution_count": 2,
   "metadata": {
    "collapsed": false
   },
   "outputs": [
    {
     "name": "stderr",
     "output_type": "stream",
     "text": [
      "/opt/blue-python/2.7/lib/python2.7/site-packages/matplotlib/__init__.py:913: UserWarning: axes.color_cycle is deprecated and replaced with axes.prop_cycle; please use the latter.\n",
      "  warnings.warn(self.msg_depr % (key, alt_key))\n"
     ]
    }
   ],
   "source": [
    "import numpy as np\n",
    "import pandas as pd\n",
    "\n",
    "from pyspark.sql import SparkSession\n",
    "import pyspark.sql.functions as f\n",
    "import pyspark.sql.types as t\n",
    "\n",
    "from pyspark.sql.types import *\n",
    "\n",
    "import seaborn as sns\n",
    "import matplotlib.pyplot as plt\n",
    "# sns.set(style=\"ticks\", color_codes=True)\n",
    "%matplotlib inline\n",
    "\n",
    "import warnings\n",
    "warnings.filterwarnings(\"ignore\")"
   ]
  },
  {
   "cell_type": "markdown",
   "metadata": {},
   "source": [
    "## User Attributes"
   ]
  },
  {
   "cell_type": "code",
   "execution_count": 3,
   "metadata": {
    "collapsed": false
   },
   "outputs": [],
   "source": [
    "# gets partners in preferred partner program\n",
    "preferredPartner = (spark.table('default.xxx_partners')\n",
    "                    .select(f.col('id').alias('hotel_id'),'preferred')\n",
    "                    .where(f.col('preferred') == 1)\n",
    "                    ).cache()\n",
    "\n",
    "# filters out test hotels\n",
    "noTestHotel = (spark.table('xxx_reporting.customer_attributes')\n",
    "               .where(f.col('status_id')!=  11)\n",
    "               .select('hotel_id'))\n",
    "\n",
    "# gets pool of partners with key attributes, excluding test hotels \n",
    "customerAttributes = (spark.table('xxx_reporting.customer_attributes')\n",
    "                      .where(f.col('status_id')!=  11)\n",
    "                      .select('hotel_id','country','nr_rooms','is_xml','pulse_os')\n",
    "                      .join(preferredPartner, 'hotel_id','left')\n",
    "                     ).cache()"
   ]
  },
  {
   "cell_type": "markdown",
   "metadata": {},
   "source": [
    "### Opinion Leadership\n",
    "<b>Q:</b> am I wiling to refer solution to others? <b>Proxy:</b> # of partner referrals"
   ]
  },
  {
   "cell_type": "code",
   "execution_count": 4,
   "metadata": {
    "collapsed": false
   },
   "outputs": [],
   "source": [
    "# takes the number of referrals per partner in a given year\n",
    "referrer = (spark.table('default.acquisition_partnerincentiverewardslog')\n",
    "           .where(f.col('promised_date').between('2017-01-01','2017-12-31'))\n",
    "           .groupby(f.col('hotel_id_or_property_id').alias('hotel_id'))\n",
    "           .agg(f.countDistinct('id').alias('nr_referrals'))\n",
    "           .join(noTestHotel, 'hotel_id','inner')\n",
    "          ).cache()"
   ]
  },
  {
   "cell_type": "markdown",
   "metadata": {},
   "source": [
    "### Risk Tolerance\n",
    "<b>Q:</b> am I open to buy a product in the solutions store? <b>Proxy:</b> # implemented opportunities in `Pricing` pillar, done through self-service centre & whether partner is part of the preferred program"
   ]
  },
  {
   "cell_type": "code",
   "execution_count": 5,
   "metadata": {
    "collapsed": false
   },
   "outputs": [],
   "source": [
    "# looks at the number of bought solutions in self-service centre\n",
    "implementedOpps = (spark.table('reporting.kpi_initiative_performance')\n",
    "                   .where(f.col('pillar_id').isin([1,2,3,4]))\n",
    "                   .where(f.col('opportunity_type')=='global')\n",
    "                   .where(f.col('implemented_opps_oc') == 1)\n",
    "                   .where(f.col('yyyy_mm_dd').between('2017-01-01','2017-12-31'))\n",
    "                   .join(noTestHotel, 'hotel_id','inner')\n",
    "                   .groupBy('hotel_id').pivot('pillar')\n",
    "                   .agg(f.round(f.sum('implemented_value_oc')/f.sum('implemented_opps_oc'),2)).fillna(0)\n",
    "                  ).cache()"
   ]
  },
  {
   "cell_type": "markdown",
   "metadata": {},
   "source": [
    "### Financial Resources\n",
    "<b>Q:</b> can I spend disposable income on buying products? <b>Proxy:</b> wallet share (%) of annual budget for external apps from partner revenue on platform"
   ]
  },
  {
   "cell_type": "code",
   "execution_count": 6,
   "metadata": {
    "collapsed": false
   },
   "outputs": [
    {
     "data": {
      "text/plain": [
       "624"
      ]
     },
     "execution_count": 6,
     "metadata": {},
     "output_type": "execute_result"
    }
   ],
   "source": [
    "# median price of products currently sold in solutions store\n",
    "medianProductPrice = 52 * 12\n",
    "medianProductPrice"
   ]
  },
  {
   "cell_type": "code",
   "execution_count": 7,
   "metadata": {
    "collapsed": false
   },
   "outputs": [],
   "source": [
    "# revenue generated by a partner in a given year for stayed reservations\n",
    "revenue = (spark.table('default.reservation_flatter_without_user_ids')\n",
    "            .where(f.col('status')=='ok')\n",
    "            .where(f.col('checkout').between('2017-01-01','2017-12-31'))\n",
    "            .join(noTestHotel, 'hotel_id','inner')\n",
    "            .groupBy('hotel_id')\n",
    "            .agg(f.round(f.sum('price_euro'),0).alias('revenue'))\n",
    "            .withColumn('budget_share', f.round(medianProductPrice / f.col('revenue'),3))\n",
    "         ).cache()"
   ]
  },
  {
   "cell_type": "markdown",
   "metadata": {},
   "source": [
    "### Degree of Skepticism\n",
    "<b>Q:</b> can the solutions store help my business?\n",
    "<b>Proxy:</b> # partners who have ever had any B2B product & review score"
   ]
  },
  {
   "cell_type": "code",
   "execution_count": 8,
   "metadata": {
    "collapsed": false
   },
   "outputs": [],
   "source": [
    "# has user ever been a user of any first-party app?\n",
    "internalAppUser = (spark.table('xxx_reporting.daily_customer_product_status_changes')\n",
    "                   .where(f.col('live') == 1)\n",
    "                   .where(f.col('product_family').isin(['web','rate']))\n",
    "                   .join(noTestHotel, 'hotel_id','inner')\n",
    "                   .groupBy('hotel_id')\n",
    "                   .agg(f.sum('live').alias('nr_xxx_products'))\n",
    "                ).cache()"
   ]
  },
  {
   "cell_type": "code",
   "execution_count": 9,
   "metadata": {
    "collapsed": false
   },
   "outputs": [],
   "source": [
    "# # users with a higher review score are usually looking to maintain or improve their scores\n",
    "reviewScore = (spark.table('reporting.property_splits_scores')\n",
    "               .select('hotel_id','review_score')\n",
    "               ).cache()"
   ]
  },
  {
   "cell_type": "markdown",
   "metadata": {},
   "source": [
    "## Point System and Weights"
   ]
  },
  {
   "cell_type": "code",
   "execution_count": 10,
   "metadata": {
    "collapsed": true
   },
   "outputs": [],
   "source": [
    "# weights per adoption category\n",
    "opinionLeadership = 0.1\n",
    "riskTolerance = 0.35\n",
    "finResources = 0.25\n",
    "degreeSkepticism = 0.3"
   ]
  },
  {
   "cell_type": "code",
   "execution_count": 11,
   "metadata": {
    "collapsed": true
   },
   "outputs": [],
   "source": [
    "def opinionleadership_score(nr_referrals):\n",
    "    if nr_referrals is None or nr_referrals == 0:\n",
    "        return 0\n",
    "    elif nr_referrals == 1:\n",
    "        return 1\n",
    "    elif nr_referrals > 1:\n",
    "        return 2\n",
    "\n",
    "opinionleadership_score_udf = f.udf(opinionleadership_score, t.IntegerType())"
   ]
  },
  {
   "cell_type": "code",
   "execution_count": 12,
   "metadata": {
    "collapsed": true
   },
   "outputs": [],
   "source": [
    "def risktolerance_score(imp_opp, preferred):\n",
    "    if (imp_opp is None or imp_opp == 0) and preferred == 0:\n",
    "        return 0\n",
    "    elif (imp_opp >= 1 and imp_opp <= 70) and preferred == 0:\n",
    "        return 1\n",
    "    elif (imp_opp > 70 and imp_opp <= 200) and preferred == 0:\n",
    "        return 2\n",
    "    elif imp_opp >= 200 and preferred == 0:\n",
    "        return 3\n",
    "    elif preferred >= 1:\n",
    "        return 4\n",
    "\n",
    "risktolerance_score_udf = f.udf(risktolerance_score, t.IntegerType())"
   ]
  },
  {
   "cell_type": "code",
   "execution_count": 13,
   "metadata": {
    "collapsed": true
   },
   "outputs": [],
   "source": [
    "def finresources_score(wallet):\n",
    "    if wallet is None or wallet > 0.1:\n",
    "        return 0\n",
    "    elif wallet > 0.05:\n",
    "        return 1\n",
    "    else:\n",
    "        return 2\n",
    "\n",
    "finresources_score_udf = f.udf(finresources_score, t.IntegerType())"
   ]
  },
  {
   "cell_type": "code",
   "execution_count": 14,
   "metadata": {
    "collapsed": false
   },
   "outputs": [],
   "source": [
    "def skepticism_score(suite_app, review, pulse):\n",
    "    if (suite_app is None or suite_app == 0) and review < 7.5 and pulse is None:\n",
    "        return 0\n",
    "    elif suite_app > 0 and review < 7.5 and pulse is None:\n",
    "        return 1\n",
    "    elif suite_app == 0 and review >= 7.5 and pulse is not None:\n",
    "        return 2\n",
    "    elif suite_app > 0 and review >= 7.5 and pulse is not None:\n",
    "        return 3\n",
    "    else:\n",
    "        return 1\n",
    "\n",
    "skepticism_score_udf = f.udf(skepticism_score, t.IntegerType())"
   ]
  },
  {
   "cell_type": "code",
   "execution_count": 15,
   "metadata": {
    "collapsed": false
   },
   "outputs": [],
   "source": [
    "adoptionCurve = (customerAttributes\n",
    "                 .join(referrer,'hotel_id','left')\n",
    "                 .join(revenue,'hotel_id','left')\n",
    "                 .join(internalAppUser,'hotel_id','left')\n",
    "                 .join(implementedOpps,'hotel_id','left')\n",
    "                 .join(reviewScore,'hotel_id','left')\n",
    "                 .drop('Availability','Content','Extra Features')\n",
    "                 .fillna({'preferred':0,\n",
    "                         'nr_referrals' : 0,\n",
    "                         'revenue':0,\n",
    "                         'budget_share': 0,\n",
    "                         'nr_suite_products': 0,\n",
    "                         'review_score': 0,\n",
    "                         'Pricing': 0 \n",
    "                         })\n",
    "                ).cache()\n",
    "\n",
    "for col_name in ['Pricing']:\n",
    "    adoptionCurve = adoptionCurve.withColumnRenamed(col_name, 'value_per_opp')"
   ]
  },
  {
   "cell_type": "markdown",
   "metadata": {},
   "source": [
    "## Technology Adoption Score"
   ]
  },
  {
   "cell_type": "code",
   "execution_count": 16,
   "metadata": {
    "collapsed": false
   },
   "outputs": [],
   "source": [
    "adoptionCurve = (adoptionCurve\n",
    "                .withColumn('op_score_1', opinionleadership_score_udf('nr_referrals')*opinionLeadership/2)\n",
    "                .withColumn('rt_score_2', risktolerance_score_udf('value_per_opp','preferred')*riskTolerance/4)\n",
    "                .withColumn('fr_score_3', finresources_score_udf('budget_share')*finResources/2)\n",
    "                .withColumn('sk_score_4', skepticism_score_udf('nr_suite_products','review_score','pulse_os')*degreeSkepticism/3)\n",
    "                .withColumn('adoption_score', f.col('op_score_1') + f.col('rt_score_2') + f.col('fr_score_3')\n",
    "                            + f.col('sk_score_4'))\n",
    "                ).cache()"
   ]
  }
 ],
 "metadata": {
  "kernelspec": {
   "display_name": "Python 3",
   "language": "python",
   "name": "python3"
  },
  "language_info": {
   "codemirror_mode": {
    "name": "ipython",
    "version": 3
   },
   "file_extension": ".py",
   "mimetype": "text/x-python",
   "name": "python",
   "nbconvert_exporter": "python",
   "pygments_lexer": "ipython3",
   "version": "3.6.8"
  }
 },
 "nbformat": 4,
 "nbformat_minor": 2
}
